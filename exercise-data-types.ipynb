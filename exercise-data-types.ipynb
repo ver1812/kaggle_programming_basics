{
 "cells": [
  {
   "cell_type": "markdown",
   "id": "fdfa0155",
   "metadata": {
    "papermill": {
     "duration": 0.009062,
     "end_time": "2023-07-22T09:24:56.527248",
     "exception": false,
     "start_time": "2023-07-22T09:24:56.518186",
     "status": "completed"
    },
    "tags": []
   },
   "source": [
    "**This notebook is an exercise in the [Intro to Programming](https://www.kaggle.com/learn/intro-to-programming) course.  You can reference the tutorial at [this link](https://www.kaggle.com/alexisbcook/data-types).**\n",
    "\n",
    "---\n"
   ]
  },
  {
   "cell_type": "markdown",
   "id": "1cbdf5d7",
   "metadata": {
    "papermill": {
     "duration": 0.00829,
     "end_time": "2023-07-22T09:24:56.544735",
     "exception": false,
     "start_time": "2023-07-22T09:24:56.536445",
     "status": "completed"
    },
    "tags": []
   },
   "source": [
    "In the tutorial, you learned about four different data types: floats, integers, strings, and booleans.  In this exercise, you'll experiment with them.\n",
    "\n",
    "# Set up the notebook\n",
    "\n",
    "Run the next code cell without changes to set up the notebook."
   ]
  },
  {
   "cell_type": "code",
   "execution_count": 1,
   "id": "e11f49ab",
   "metadata": {
    "execution": {
     "iopub.execute_input": "2023-07-22T09:24:56.564557Z",
     "iopub.status.busy": "2023-07-22T09:24:56.563134Z",
     "iopub.status.idle": "2023-07-22T09:24:56.617283Z",
     "shell.execute_reply": "2023-07-22T09:24:56.615738Z"
    },
    "papermill": {
     "duration": 0.066915,
     "end_time": "2023-07-22T09:24:56.620011",
     "exception": false,
     "start_time": "2023-07-22T09:24:56.553096",
     "status": "completed"
    },
    "tags": []
   },
   "outputs": [
    {
     "name": "stdout",
     "output_type": "stream",
     "text": [
      "Setup complete.\n"
     ]
    }
   ],
   "source": [
    "# Set up the exercise\n",
    "from learntools.core import binder\n",
    "binder.bind(globals())\n",
    "from learntools.intro_to_programming.ex3 import *\n",
    "print('Setup complete.')"
   ]
  },
  {
   "cell_type": "markdown",
   "id": "e92e73ce",
   "metadata": {
    "papermill": {
     "duration": 0.008328,
     "end_time": "2023-07-22T09:24:56.637198",
     "exception": false,
     "start_time": "2023-07-22T09:24:56.628870",
     "status": "completed"
    },
    "tags": []
   },
   "source": [
    "# Question 1\n",
    "\n",
    "You have seen how to convert a float to an integer with the `int` function.  Try this out yourself by running the code cell below."
   ]
  },
  {
   "cell_type": "code",
   "execution_count": 2,
   "id": "02e440ea",
   "metadata": {
    "execution": {
     "iopub.execute_input": "2023-07-22T09:24:56.656866Z",
     "iopub.status.busy": "2023-07-22T09:24:56.656382Z",
     "iopub.status.idle": "2023-07-22T09:24:56.664166Z",
     "shell.execute_reply": "2023-07-22T09:24:56.662758Z"
    },
    "papermill": {
     "duration": 0.020851,
     "end_time": "2023-07-22T09:24:56.666893",
     "exception": false,
     "start_time": "2023-07-22T09:24:56.646042",
     "status": "completed"
    },
    "tags": []
   },
   "outputs": [
    {
     "name": "stdout",
     "output_type": "stream",
     "text": [
      "1.0\n",
      "<class 'float'>\n",
      "1\n",
      "<class 'int'>\n"
     ]
    }
   ],
   "source": [
    "# Define a float\n",
    "y = 1.\n",
    "print(y)\n",
    "print(type(y))\n",
    "\n",
    "# Convert float to integer with the int function\n",
    "z = int(y)\n",
    "print(z)\n",
    "print(type(z))"
   ]
  },
  {
   "cell_type": "markdown",
   "id": "bbdc2e67",
   "metadata": {
    "papermill": {
     "duration": 0.008531,
     "end_time": "2023-07-22T09:24:56.684393",
     "exception": false,
     "start_time": "2023-07-22T09:24:56.675862",
     "status": "completed"
    },
    "tags": []
   },
   "source": [
    "In this case, the float you are using has no numbers after the decimal.  \n",
    "- But what happens when you try to convert a float with a fractional part to an integer?  \n",
    "- How does the outcome of the `int` function change for positive and negative numbers?\n",
    "\n",
    "Use the next code cell to investigate and answer these questions.  Feel free to add or remove any lines of code -- it is your workspace!"
   ]
  },
  {
   "cell_type": "code",
   "execution_count": 3,
   "id": "caa1605d",
   "metadata": {
    "execution": {
     "iopub.execute_input": "2023-07-22T09:24:56.707671Z",
     "iopub.status.busy": "2023-07-22T09:24:56.707038Z",
     "iopub.status.idle": "2023-07-22T09:24:56.713304Z",
     "shell.execute_reply": "2023-07-22T09:24:56.712008Z"
    },
    "papermill": {
     "duration": 0.020797,
     "end_time": "2023-07-22T09:24:56.715892",
     "exception": false,
     "start_time": "2023-07-22T09:24:56.695095",
     "status": "completed"
    },
    "tags": []
   },
   "outputs": [
    {
     "name": "stdout",
     "output_type": "stream",
     "text": [
      "1\n",
      "1\n",
      "-3\n",
      "-2\n"
     ]
    }
   ],
   "source": [
    "# Uncomment and run this code to get started!\n",
    "print(int(1.2321))\n",
    "print(int(1.747))\n",
    "print(int(-3.94535))\n",
    "print(int(-2.19774))"
   ]
  },
  {
   "cell_type": "markdown",
   "id": "aa490b72",
   "metadata": {
    "papermill": {
     "duration": 0.008864,
     "end_time": "2023-07-22T09:24:56.733865",
     "exception": false,
     "start_time": "2023-07-22T09:24:56.725001",
     "status": "completed"
    },
    "tags": []
   },
   "source": [
    "Once you have an answer, run the code cell below to see the solution.  Viewing the solution will give you credit for answering the problem."
   ]
  },
  {
   "cell_type": "code",
   "execution_count": 4,
   "id": "bc420650",
   "metadata": {
    "execution": {
     "iopub.execute_input": "2023-07-22T09:24:56.754199Z",
     "iopub.status.busy": "2023-07-22T09:24:56.753727Z",
     "iopub.status.idle": "2023-07-22T09:24:56.765603Z",
     "shell.execute_reply": "2023-07-22T09:24:56.763940Z"
    },
    "papermill": {
     "duration": 0.025277,
     "end_time": "2023-07-22T09:24:56.768332",
     "exception": false,
     "start_time": "2023-07-22T09:24:56.743055",
     "status": "completed"
    },
    "tags": []
   },
   "outputs": [
    {
     "data": {
      "application/javascript": [
       "parent.postMessage({\"jupyterEvent\": \"custom.exercise_interaction\", \"data\": {\"outcomeType\": 1, \"valueTowardsCompletion\": 0.2, \"interactionType\": 1, \"questionType\": 4, \"questionId\": \"1_FloatToInt\", \"learnToolsVersion\": \"0.3.4\", \"failureMessage\": \"\", \"exceptionClass\": \"\", \"trace\": \"\"}}, \"*\")"
      ],
      "text/plain": [
       "<IPython.core.display.Javascript object>"
      ]
     },
     "metadata": {},
     "output_type": "display_data"
    },
    {
     "data": {
      "text/markdown": [
       "<span style=\"color:#33cc33\">Correct:</span> \n",
       "\n",
       "Negative floats are always rounded UP to the closest integer (for instance, both -1.1 and -1.9 are rounded up to -1). Positive floats are always rounded DOWN to the closest integer (for instance, 2.1 and 2.9 are rounded down to 2)."
      ],
      "text/plain": [
       "Correct: \n",
       "\n",
       "Negative floats are always rounded UP to the closest integer (for instance, both -1.1 and -1.9 are rounded up to -1). Positive floats are always rounded DOWN to the closest integer (for instance, 2.1 and 2.9 are rounded down to 2)."
      ]
     },
     "metadata": {},
     "output_type": "display_data"
    }
   ],
   "source": [
    "# Check your answer (Run this code cell to receive credit!)\n",
    "q1.check()"
   ]
  },
  {
   "cell_type": "markdown",
   "id": "2965c8cf",
   "metadata": {
    "papermill": {
     "duration": 0.009542,
     "end_time": "2023-07-22T09:24:56.788441",
     "exception": false,
     "start_time": "2023-07-22T09:24:56.778899",
     "status": "completed"
    },
    "tags": []
   },
   "source": [
    "# Question 2\n",
    "\n",
    "In the tutorial, you learned about booleans (which can take a value of `True` or `False`), in addition to integers, floats, and strings.  For this question, your goal is to determine what happens when you multiply a boolean by any of these data types.  Specifically, \n",
    "- What happens when you multiply an integer or float by `True`?  What happens when you multiply them by `False`?  How does the answer change if the numbers are positive or negative?\n",
    "- What happens when you multiply a string by `True`?  By `False`?\n",
    "\n",
    "Use the next code cell for your investigation. "
   ]
  },
  {
   "cell_type": "code",
   "execution_count": 5,
   "id": "b633e89e",
   "metadata": {
    "execution": {
     "iopub.execute_input": "2023-07-22T09:24:56.810284Z",
     "iopub.status.busy": "2023-07-22T09:24:56.809891Z",
     "iopub.status.idle": "2023-07-22T09:24:56.817103Z",
     "shell.execute_reply": "2023-07-22T09:24:56.815598Z"
    },
    "papermill": {
     "duration": 0.021289,
     "end_time": "2023-07-22T09:24:56.819680",
     "exception": false,
     "start_time": "2023-07-22T09:24:56.798391",
     "status": "completed"
    },
    "tags": []
   },
   "outputs": [
    {
     "name": "stdout",
     "output_type": "stream",
     "text": [
      "3\n",
      "-3.1\n",
      "<class 'str'>\n",
      "0\n"
     ]
    }
   ],
   "source": [
    "# Uncomment and run this code to get started!\n",
    "print(3 * True)\n",
    "print(-3.1 * True)\n",
    "print(type(\"abc\" * False))\n",
    "print(len(\"abc\" * False))"
   ]
  },
  {
   "cell_type": "markdown",
   "id": "34bb6894",
   "metadata": {
    "papermill": {
     "duration": 0.009354,
     "end_time": "2023-07-22T09:24:56.838820",
     "exception": false,
     "start_time": "2023-07-22T09:24:56.829466",
     "status": "completed"
    },
    "tags": []
   },
   "source": [
    "Once you have an answer, run the code cell below to see the solution.  Viewing the solution will give you credit for answering the problem."
   ]
  },
  {
   "cell_type": "code",
   "execution_count": 6,
   "id": "d354e647",
   "metadata": {
    "execution": {
     "iopub.execute_input": "2023-07-22T09:24:56.862291Z",
     "iopub.status.busy": "2023-07-22T09:24:56.860565Z",
     "iopub.status.idle": "2023-07-22T09:24:56.871560Z",
     "shell.execute_reply": "2023-07-22T09:24:56.870355Z"
    },
    "papermill": {
     "duration": 0.025362,
     "end_time": "2023-07-22T09:24:56.874389",
     "exception": false,
     "start_time": "2023-07-22T09:24:56.849027",
     "status": "completed"
    },
    "tags": []
   },
   "outputs": [
    {
     "data": {
      "application/javascript": [
       "parent.postMessage({\"jupyterEvent\": \"custom.exercise_interaction\", \"data\": {\"outcomeType\": 1, \"valueTowardsCompletion\": 0.2, \"interactionType\": 1, \"questionType\": 4, \"questionId\": \"2_MultiplyBooleans\", \"learnToolsVersion\": \"0.3.4\", \"failureMessage\": \"\", \"exceptionClass\": \"\", \"trace\": \"\"}}, \"*\")"
      ],
      "text/plain": [
       "<IPython.core.display.Javascript object>"
      ]
     },
     "metadata": {},
     "output_type": "display_data"
    },
    {
     "data": {
      "text/markdown": [
       "<span style=\"color:#33cc33\">Correct:</span> \n",
       "\n",
       "When you multiple an integer or float by a boolean with value `True`, it just returns that same integer or float (and is equivalent to multiplying by 1).  If you multiply an integer or float by a boolean with value `False`, it always returns 0.  This is true for both positive and negative numbers.  If you multiply a string by a boolean with value `True`, it just returns that same string.  And if you multiply a string by a boolean with value `False`, it returns an empty string (or a string with length zero)."
      ],
      "text/plain": [
       "Correct: \n",
       "\n",
       "When you multiple an integer or float by a boolean with value `True`, it just returns that same integer or float (and is equivalent to multiplying by 1).  If you multiply an integer or float by a boolean with value `False`, it always returns 0.  This is true for both positive and negative numbers.  If you multiply a string by a boolean with value `True`, it just returns that same string.  And if you multiply a string by a boolean with value `False`, it returns an empty string (or a string with length zero)."
      ]
     },
     "metadata": {},
     "output_type": "display_data"
    }
   ],
   "source": [
    "# Check your answer (Run this code cell to receive credit!)\n",
    "q2.check()"
   ]
  },
  {
   "cell_type": "markdown",
   "id": "1c10104d",
   "metadata": {
    "papermill": {
     "duration": 0.009341,
     "end_time": "2023-07-22T09:24:56.893801",
     "exception": false,
     "start_time": "2023-07-22T09:24:56.884460",
     "status": "completed"
    },
    "tags": []
   },
   "source": [
    "# Question 3\n",
    "\n",
    "In this question, you will build off your work from the previous exercise to write a function that estimates the value of a house.\n",
    "\n",
    "Use the next code cell to create a function `get_expected_cost` that takes as input three variables:\n",
    "- `beds` - number of bedrooms (data type float)\n",
    "- `baths` - number of bathrooms (data type float)\n",
    "- `has_basement` - whether or not the house has a basement (data type boolean)\n",
    "\n",
    "It should return the expected cost of a house with those characteristics. Assume that:\n",
    "- the expected cost for a house with 0 bedrooms and 0 bathrooms, and no basement is 80000, \n",
    "- each bedroom adds 30000 to the expected cost,\n",
    "- each bathroom adds 10000 to the expected cost, and\n",
    "- a basement adds 40000 to the expected cost.\n",
    "\n",
    "For instance,\n",
    "- a house with 1 bedroom, 1 bathroom, and no basement has an expected cost of 80000 + 30000 + 10000 = 120000.  This value will be calculated with `get_expected_cost(1, 1, False)`.\n",
    "- a house with 2 bedrooms, 1 bathroom, and a basement has an expected cost of 80000 + 2*30000 + 10000 + 40000 = 190000.  This value will be calculated with `get_expected_cost(2, 1, True)`.\n",
    "\n",
    "Remember you can always get a hint by uncommenting `q3.hint()` in the code cell following the next!"
   ]
  },
  {
   "cell_type": "code",
   "execution_count": 7,
   "id": "7fac4a3f",
   "metadata": {
    "execution": {
     "iopub.execute_input": "2023-07-22T09:24:56.915425Z",
     "iopub.status.busy": "2023-07-22T09:24:56.914951Z",
     "iopub.status.idle": "2023-07-22T09:24:56.926094Z",
     "shell.execute_reply": "2023-07-22T09:24:56.924789Z"
    },
    "papermill": {
     "duration": 0.025007,
     "end_time": "2023-07-22T09:24:56.928504",
     "exception": false,
     "start_time": "2023-07-22T09:24:56.903497",
     "status": "completed"
    },
    "tags": []
   },
   "outputs": [
    {
     "data": {
      "application/javascript": [
       "parent.postMessage({\"jupyterEvent\": \"custom.exercise_interaction\", \"data\": {\"outcomeType\": 1, \"valueTowardsCompletion\": 0.2, \"interactionType\": 1, \"questionType\": 2, \"questionId\": \"3_EstimateHouseValueBool\", \"learnToolsVersion\": \"0.3.4\", \"failureMessage\": \"\", \"exceptionClass\": \"\", \"trace\": \"\"}}, \"*\")"
      ],
      "text/plain": [
       "<IPython.core.display.Javascript object>"
      ]
     },
     "metadata": {},
     "output_type": "display_data"
    },
    {
     "data": {
      "text/markdown": [
       "<span style=\"color:#33cc33\">Correct</span>"
      ],
      "text/plain": [
       "Correct"
      ]
     },
     "metadata": {},
     "output_type": "display_data"
    }
   ],
   "source": [
    "# TODO: Complete the function\n",
    "def get_expected_cost(beds, baths, has_basement):\n",
    "    value = 80000+(beds*30000)+(baths*10000)+(has_basement*40000)\n",
    "    return value\n",
    "\n",
    "# Check your answer \n",
    "q3.check()"
   ]
  },
  {
   "cell_type": "code",
   "execution_count": 8,
   "id": "8023f078",
   "metadata": {
    "execution": {
     "iopub.execute_input": "2023-07-22T09:24:56.951279Z",
     "iopub.status.busy": "2023-07-22T09:24:56.950818Z",
     "iopub.status.idle": "2023-07-22T09:24:56.956238Z",
     "shell.execute_reply": "2023-07-22T09:24:56.954925Z"
    },
    "papermill": {
     "duration": 0.020203,
     "end_time": "2023-07-22T09:24:56.958868",
     "exception": false,
     "start_time": "2023-07-22T09:24:56.938665",
     "status": "completed"
    },
    "tags": []
   },
   "outputs": [],
   "source": [
    "# Uncomment to see a hint\n",
    "#q3.hint()\n",
    "\n",
    "# Uncomment to view the solution\n",
    "#q3.solution()"
   ]
  },
  {
   "cell_type": "markdown",
   "id": "51291410",
   "metadata": {
    "papermill": {
     "duration": 0.009631,
     "end_time": "2023-07-22T09:24:56.978858",
     "exception": false,
     "start_time": "2023-07-22T09:24:56.969227",
     "status": "completed"
    },
    "tags": []
   },
   "source": [
    "# Question 4\n",
    "\n",
    "We'll continue our study of boolean arithmetic.  For this question, your task is to provide a description of what happpens when you add booleans. \n",
    "\n",
    "Use the next code cell for your investigation.  Feel free to add or remove any lines of code - use it as your workspace!"
   ]
  },
  {
   "cell_type": "code",
   "execution_count": 9,
   "id": "56915209",
   "metadata": {
    "execution": {
     "iopub.execute_input": "2023-07-22T09:24:57.002409Z",
     "iopub.status.busy": "2023-07-22T09:24:57.000587Z",
     "iopub.status.idle": "2023-07-22T09:24:57.011336Z",
     "shell.execute_reply": "2023-07-22T09:24:57.008424Z"
    },
    "papermill": {
     "duration": 0.026769,
     "end_time": "2023-07-22T09:24:57.015719",
     "exception": false,
     "start_time": "2023-07-22T09:24:56.988950",
     "status": "completed"
    },
    "tags": []
   },
   "outputs": [
    {
     "name": "stdout",
     "output_type": "stream",
     "text": [
      "0\n",
      "1\n",
      "1\n",
      "2\n",
      "3\n"
     ]
    }
   ],
   "source": [
    "print(False + False)\n",
    "print(True + False)\n",
    "print(False + True)\n",
    "print(True + True)\n",
    "print(False + True + True + True)"
   ]
  },
  {
   "cell_type": "markdown",
   "id": "b9b8e709",
   "metadata": {
    "papermill": {
     "duration": 0.009605,
     "end_time": "2023-07-22T09:24:57.035466",
     "exception": false,
     "start_time": "2023-07-22T09:24:57.025861",
     "status": "completed"
    },
    "tags": []
   },
   "source": [
    "Once you have an answer, run the code cell below to see the solution.  Viewing the solution will give you credit for answering the problem."
   ]
  },
  {
   "cell_type": "code",
   "execution_count": 10,
   "id": "a76e9585",
   "metadata": {
    "execution": {
     "iopub.execute_input": "2023-07-22T09:24:57.059913Z",
     "iopub.status.busy": "2023-07-22T09:24:57.058494Z",
     "iopub.status.idle": "2023-07-22T09:24:57.068991Z",
     "shell.execute_reply": "2023-07-22T09:24:57.067629Z"
    },
    "papermill": {
     "duration": 0.024769,
     "end_time": "2023-07-22T09:24:57.071370",
     "exception": false,
     "start_time": "2023-07-22T09:24:57.046601",
     "status": "completed"
    },
    "tags": []
   },
   "outputs": [
    {
     "data": {
      "application/javascript": [
       "parent.postMessage({\"jupyterEvent\": \"custom.exercise_interaction\", \"data\": {\"outcomeType\": 1, \"valueTowardsCompletion\": 0.2, \"interactionType\": 1, \"questionType\": 4, \"questionId\": \"4_AddingBooleans\", \"learnToolsVersion\": \"0.3.4\", \"failureMessage\": \"\", \"exceptionClass\": \"\", \"trace\": \"\"}}, \"*\")"
      ],
      "text/plain": [
       "<IPython.core.display.Javascript object>"
      ]
     },
     "metadata": {},
     "output_type": "display_data"
    },
    {
     "data": {
      "text/markdown": [
       "<span style=\"color:#33cc33\">Correct:</span> \n",
       "\n",
       "When you add booleans, adding `False` is equivalent to adding 0, and adding `True` is equivalent to adding 1."
      ],
      "text/plain": [
       "Correct: \n",
       "\n",
       "When you add booleans, adding `False` is equivalent to adding 0, and adding `True` is equivalent to adding 1."
      ]
     },
     "metadata": {},
     "output_type": "display_data"
    }
   ],
   "source": [
    "# Check your answer (Run this code cell to receive credit!)\n",
    "q4.check()"
   ]
  },
  {
   "cell_type": "markdown",
   "id": "11878cfb",
   "metadata": {
    "papermill": {
     "duration": 0.010149,
     "end_time": "2023-07-22T09:24:57.091809",
     "exception": false,
     "start_time": "2023-07-22T09:24:57.081660",
     "status": "completed"
    },
    "tags": []
   },
   "source": [
    "# 🌶️ Question 5\n",
    "\n",
    "You own an online shop where you sell rings with custom engravings.  You offer both gold plated and solid gold rings.\n",
    "- Gold plated rings have a base cost of \\\\$50, and you charge \\\\$7 per engraved unit.  \n",
    "- Solid gold rings have a base cost of \\\\$100, and you charge \\\\$10 per engraved unit.\n",
    "- Spaces and punctuation are counted as engraved units.\n",
    "\n",
    "Write a function `cost_of_project()` that takes two arguments:\n",
    "- `engraving` - a Python string with the text of the engraving\n",
    "- `solid_gold` - a Boolean that indicates whether the ring is solid gold\n",
    "\n",
    "It should return the cost of the project.  This question should be fairly challenging, and you may need a hint."
   ]
  },
  {
   "cell_type": "code",
   "execution_count": 11,
   "id": "f9c07df6",
   "metadata": {
    "execution": {
     "iopub.execute_input": "2023-07-22T09:24:57.115557Z",
     "iopub.status.busy": "2023-07-22T09:24:57.114935Z",
     "iopub.status.idle": "2023-07-22T09:24:57.123389Z",
     "shell.execute_reply": "2023-07-22T09:24:57.122596Z"
    },
    "papermill": {
     "duration": 0.024699,
     "end_time": "2023-07-22T09:24:57.126779",
     "exception": false,
     "start_time": "2023-07-22T09:24:57.102080",
     "status": "completed"
    },
    "tags": []
   },
   "outputs": [
    {
     "data": {
      "application/javascript": [
       "parent.postMessage({\"jupyterEvent\": \"custom.exercise_interaction\", \"data\": {\"outcomeType\": 1, \"valueTowardsCompletion\": 0.2, \"interactionType\": 1, \"questionType\": 2, \"questionId\": \"5_CustomEngravings\", \"learnToolsVersion\": \"0.3.4\", \"failureMessage\": \"\", \"exceptionClass\": \"\", \"trace\": \"\"}}, \"*\")"
      ],
      "text/plain": [
       "<IPython.core.display.Javascript object>"
      ]
     },
     "metadata": {},
     "output_type": "display_data"
    },
    {
     "data": {
      "text/markdown": [
       "<span style=\"color:#33cc33\">Correct</span>"
      ],
      "text/plain": [
       "Correct"
      ]
     },
     "metadata": {},
     "output_type": "display_data"
    }
   ],
   "source": [
    "def cost_of_project(engraving, solid_gold):\n",
    "    b = solid_gold * 100 + (not solid_gold) * 50\n",
    "    e = solid_gold * 10 + (not solid_gold) * 7\n",
    "    u = len(engraving)\n",
    "    cost = b+(e*u)\n",
    "    return cost\n",
    "\n",
    "# Check your answer\n",
    "q5.check()"
   ]
  },
  {
   "cell_type": "code",
   "execution_count": 12,
   "id": "222221f3",
   "metadata": {
    "execution": {
     "iopub.execute_input": "2023-07-22T09:24:57.151423Z",
     "iopub.status.busy": "2023-07-22T09:24:57.150813Z",
     "iopub.status.idle": "2023-07-22T09:24:57.159463Z",
     "shell.execute_reply": "2023-07-22T09:24:57.158337Z"
    },
    "papermill": {
     "duration": 0.024025,
     "end_time": "2023-07-22T09:24:57.162148",
     "exception": false,
     "start_time": "2023-07-22T09:24:57.138123",
     "status": "completed"
    },
    "tags": []
   },
   "outputs": [
    {
     "data": {
      "application/javascript": [
       "parent.postMessage({\"jupyterEvent\": \"custom.exercise_interaction\", \"data\": {\"interactionType\": 2, \"questionType\": 2, \"questionId\": \"5_CustomEngravings\", \"learnToolsVersion\": \"0.3.4\", \"valueTowardsCompletion\": 0.0, \"failureMessage\": \"\", \"exceptionClass\": \"\", \"trace\": \"\", \"outcomeType\": 4}}, \"*\")"
      ],
      "text/plain": [
       "<IPython.core.display.Javascript object>"
      ]
     },
     "metadata": {},
     "output_type": "display_data"
    },
    {
     "data": {
      "text/markdown": [
       "<span style=\"color:#3366cc\">Hint:</span> There are two options - either the project uses solid gold or does not.  With this in mind, you can structure your solution like this: `cost = solid_gold * ____ + (not solid_gold) * ____`.  You need to figure out how to fill in the blanks. Also, remember that:\n",
       "- If `solid_gold = True`, then `(not solid_gold) = False`, and if `solid_gold = False`, then `(not solid_gold) = True`.\n",
       "- Multiplying an integer by `True` is equivalent to multiplying it by 1, and multiplying an integer by `False` is equivalent to multiplying it by 0."
      ],
      "text/plain": [
       "Hint: There are two options - either the project uses solid gold or does not.  With this in mind, you can structure your solution like this: `cost = solid_gold * ____ + (not solid_gold) * ____`.  You need to figure out how to fill in the blanks. Also, remember that:\n",
       "- If `solid_gold = True`, then `(not solid_gold) = False`, and if `solid_gold = False`, then `(not solid_gold) = True`.\n",
       "- Multiplying an integer by `True` is equivalent to multiplying it by 1, and multiplying an integer by `False` is equivalent to multiplying it by 0."
      ]
     },
     "metadata": {},
     "output_type": "display_data"
    }
   ],
   "source": [
    "# Uncomment to see a hint\n",
    "q5.hint()\n",
    "\n",
    "# Uncomment to view the solution\n",
    "#q5.solution()"
   ]
  },
  {
   "cell_type": "markdown",
   "id": "6956c8a2",
   "metadata": {
    "papermill": {
     "duration": 0.011364,
     "end_time": "2023-07-22T09:24:57.184963",
     "exception": false,
     "start_time": "2023-07-22T09:24:57.173599",
     "status": "completed"
    },
    "tags": []
   },
   "source": [
    "Run the next code cell to calculate the cost of engraving `Charlie+Denver` on a solid gold ring."
   ]
  },
  {
   "cell_type": "code",
   "execution_count": 13,
   "id": "af0773b4",
   "metadata": {
    "execution": {
     "iopub.execute_input": "2023-07-22T09:24:57.209867Z",
     "iopub.status.busy": "2023-07-22T09:24:57.209415Z",
     "iopub.status.idle": "2023-07-22T09:24:57.214745Z",
     "shell.execute_reply": "2023-07-22T09:24:57.213970Z"
    },
    "papermill": {
     "duration": 0.021348,
     "end_time": "2023-07-22T09:24:57.217806",
     "exception": false,
     "start_time": "2023-07-22T09:24:57.196458",
     "status": "completed"
    },
    "tags": []
   },
   "outputs": [
    {
     "name": "stdout",
     "output_type": "stream",
     "text": [
      "240\n"
     ]
    }
   ],
   "source": [
    "project_one = cost_of_project(\"Charlie+Denver\", True)\n",
    "print(project_one)"
   ]
  },
  {
   "cell_type": "markdown",
   "id": "ada13bed",
   "metadata": {
    "papermill": {
     "duration": 0.011181,
     "end_time": "2023-07-22T09:24:57.240597",
     "exception": false,
     "start_time": "2023-07-22T09:24:57.229416",
     "status": "completed"
    },
    "tags": []
   },
   "source": [
    "Use the next code cell to calculate the cost of engraving `08/10/2000` on a gold plated ring."
   ]
  },
  {
   "cell_type": "code",
   "execution_count": 14,
   "id": "523b1406",
   "metadata": {
    "execution": {
     "iopub.execute_input": "2023-07-22T09:24:57.266191Z",
     "iopub.status.busy": "2023-07-22T09:24:57.265058Z",
     "iopub.status.idle": "2023-07-22T09:24:57.271511Z",
     "shell.execute_reply": "2023-07-22T09:24:57.270219Z"
    },
    "papermill": {
     "duration": 0.021809,
     "end_time": "2023-07-22T09:24:57.273831",
     "exception": false,
     "start_time": "2023-07-22T09:24:57.252022",
     "status": "completed"
    },
    "tags": []
   },
   "outputs": [
    {
     "name": "stdout",
     "output_type": "stream",
     "text": [
      "120\n"
     ]
    }
   ],
   "source": [
    "project_two = cost_of_project(\"08/10/2000\", False)\n",
    "print(project_two)"
   ]
  },
  {
   "cell_type": "markdown",
   "id": "0e4636e7",
   "metadata": {
    "papermill": {
     "duration": 0.011412,
     "end_time": "2023-07-22T09:24:57.296858",
     "exception": false,
     "start_time": "2023-07-22T09:24:57.285446",
     "status": "completed"
    },
    "tags": []
   },
   "source": [
    "# Keep going\n",
    "\n",
    "Continue to the next lesson to **[learn about conditions and conditional statements](https://www.kaggle.com/alexisbcook/conditions-and-conditional-statements)**."
   ]
  },
  {
   "cell_type": "markdown",
   "id": "496d9416",
   "metadata": {
    "papermill": {
     "duration": 0.011337,
     "end_time": "2023-07-22T09:24:57.320253",
     "exception": false,
     "start_time": "2023-07-22T09:24:57.308916",
     "status": "completed"
    },
    "tags": []
   },
   "source": [
    "---\n",
    "\n",
    "\n",
    "\n",
    "\n",
    "*Have questions or comments? Visit the [course discussion forum](https://www.kaggle.com/learn/intro-to-programming/discussion) to chat with other learners.*"
   ]
  }
 ],
 "metadata": {
  "kernelspec": {
   "display_name": "Python 3",
   "language": "python",
   "name": "python3"
  },
  "language_info": {
   "codemirror_mode": {
    "name": "ipython",
    "version": 3
   },
   "file_extension": ".py",
   "mimetype": "text/x-python",
   "name": "python",
   "nbconvert_exporter": "python",
   "pygments_lexer": "ipython3",
   "version": "3.10.12"
  },
  "papermill": {
   "default_parameters": {},
   "duration": 16.696824,
   "end_time": "2023-07-22T09:24:58.659459",
   "environment_variables": {},
   "exception": null,
   "input_path": "__notebook__.ipynb",
   "output_path": "__notebook__.ipynb",
   "parameters": {},
   "start_time": "2023-07-22T09:24:41.962635",
   "version": "2.4.0"
  }
 },
 "nbformat": 4,
 "nbformat_minor": 5
}
