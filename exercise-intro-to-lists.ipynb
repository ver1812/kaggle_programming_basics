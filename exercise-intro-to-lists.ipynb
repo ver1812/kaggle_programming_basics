{
 "cells": [
  {
   "cell_type": "markdown",
   "id": "b93e20b7",
   "metadata": {
    "papermill": {
     "duration": 0.008611,
     "end_time": "2023-07-22T10:05:10.021927",
     "exception": false,
     "start_time": "2023-07-22T10:05:10.013316",
     "status": "completed"
    },
    "tags": []
   },
   "source": [
    "**This notebook is an exercise in the [Intro to Programming](https://www.kaggle.com/learn/intro-to-programming) course.  You can reference the tutorial at [this link](https://www.kaggle.com/alexisbcook/intro-to-lists).**\n",
    "\n",
    "---\n"
   ]
  },
  {
   "cell_type": "markdown",
   "id": "2f2e51d3",
   "metadata": {
    "papermill": {
     "duration": 0.007348,
     "end_time": "2023-07-22T10:05:10.037344",
     "exception": false,
     "start_time": "2023-07-22T10:05:10.029996",
     "status": "completed"
    },
    "tags": []
   },
   "source": [
    "In the tutorial, you learned how to define and modify Python lists.  In this exercise, you will use your new knowledge to solve several problems.\n",
    "\n",
    "# Set up the notebook\n",
    "\n",
    "Run the next code cell without changes to set up the notebook."
   ]
  },
  {
   "cell_type": "code",
   "execution_count": 1,
   "id": "4210bf26",
   "metadata": {
    "execution": {
     "iopub.execute_input": "2023-07-22T10:05:10.055509Z",
     "iopub.status.busy": "2023-07-22T10:05:10.054417Z",
     "iopub.status.idle": "2023-07-22T10:05:10.103879Z",
     "shell.execute_reply": "2023-07-22T10:05:10.102678Z"
    },
    "papermill": {
     "duration": 0.061309,
     "end_time": "2023-07-22T10:05:10.106553",
     "exception": false,
     "start_time": "2023-07-22T10:05:10.045244",
     "status": "completed"
    },
    "tags": []
   },
   "outputs": [
    {
     "name": "stdout",
     "output_type": "stream",
     "text": [
      "Setup complete.\n"
     ]
    }
   ],
   "source": [
    "from learntools.core import binder\n",
    "binder.bind(globals())\n",
    "from learntools.intro_to_programming.ex5 import *\n",
    "print('Setup complete.')"
   ]
  },
  {
   "cell_type": "markdown",
   "id": "ee8aac48",
   "metadata": {
    "papermill": {
     "duration": 0.007869,
     "end_time": "2023-07-22T10:05:10.122719",
     "exception": false,
     "start_time": "2023-07-22T10:05:10.114850",
     "status": "completed"
    },
    "tags": []
   },
   "source": [
    "# Question 1\n",
    "\n",
    "You own a restaurant with five food dishes, organized in the Python list `menu` below.  One day, you decide to:\n",
    "- remove bean soup (`'bean soup'`) from the menu, and\n",
    "- add roasted beet salad (`'roasted beet salad'`) to the menu.\n",
    "\n",
    "Implement this change to the list below.  While completing this task, \n",
    "- do not change the line that creates the `menu` list.  \n",
    "- your answer should use `.remove()` and `.append()`.  "
   ]
  },
  {
   "cell_type": "code",
   "execution_count": 2,
   "id": "e3e02fe1",
   "metadata": {
    "execution": {
     "iopub.execute_input": "2023-07-22T10:05:10.140947Z",
     "iopub.status.busy": "2023-07-22T10:05:10.140289Z",
     "iopub.status.idle": "2023-07-22T10:05:10.151726Z",
     "shell.execute_reply": "2023-07-22T10:05:10.150678Z"
    },
    "papermill": {
     "duration": 0.023404,
     "end_time": "2023-07-22T10:05:10.154247",
     "exception": false,
     "start_time": "2023-07-22T10:05:10.130843",
     "status": "completed"
    },
    "tags": []
   },
   "outputs": [
    {
     "data": {
      "application/javascript": [
       "parent.postMessage({\"jupyterEvent\": \"custom.exercise_interaction\", \"data\": {\"outcomeType\": 1, \"valueTowardsCompletion\": 0.2, \"interactionType\": 1, \"questionType\": 2, \"questionId\": \"1_FoodMenu\", \"learnToolsVersion\": \"0.3.4\", \"failureMessage\": \"\", \"exceptionClass\": \"\", \"trace\": \"\"}}, \"*\")"
      ],
      "text/plain": [
       "<IPython.core.display.Javascript object>"
      ]
     },
     "metadata": {},
     "output_type": "display_data"
    },
    {
     "data": {
      "text/markdown": [
       "<span style=\"color:#33cc33\">Correct</span>"
      ],
      "text/plain": [
       "Correct"
      ]
     },
     "metadata": {},
     "output_type": "display_data"
    }
   ],
   "source": [
    "# Do not change: Initial menu for your restaurant\n",
    "menu = ['stewed meat with onions', 'bean soup', 'risotto with trout and shrimp',\n",
    "       'fish soup with cream and onion', 'gyro']\n",
    "\n",
    "# TODO: remove 'bean soup', and add 'roasted beet salad' to the end of the menu\n",
    "menu.remove('bean soup')\n",
    "menu.append('roasted beet salad')\n",
    "\n",
    "# Do not change: Check your answer\n",
    "q1.check()"
   ]
  },
  {
   "cell_type": "code",
   "execution_count": 3,
   "id": "9b9548f2",
   "metadata": {
    "execution": {
     "iopub.execute_input": "2023-07-22T10:05:10.174252Z",
     "iopub.status.busy": "2023-07-22T10:05:10.173881Z",
     "iopub.status.idle": "2023-07-22T10:05:10.178730Z",
     "shell.execute_reply": "2023-07-22T10:05:10.177679Z"
    },
    "papermill": {
     "duration": 0.017622,
     "end_time": "2023-07-22T10:05:10.180941",
     "exception": false,
     "start_time": "2023-07-22T10:05:10.163319",
     "status": "completed"
    },
    "tags": []
   },
   "outputs": [],
   "source": [
    "# Uncomment to see a hint\n",
    "#q1.hint()\n",
    "\n",
    "# Uncomment to see the solution\n",
    "#q1.solution()"
   ]
  },
  {
   "cell_type": "markdown",
   "id": "eb366437",
   "metadata": {
    "papermill": {
     "duration": 0.008557,
     "end_time": "2023-07-22T10:05:10.198505",
     "exception": false,
     "start_time": "2023-07-22T10:05:10.189948",
     "status": "completed"
    },
    "tags": []
   },
   "source": [
    "# Question 2\n",
    "\n",
    "The list `num_customers` contains the number of customers who came into your restaurant every day over the last month (which lasted thirty days).  Fill in values for each of the following:\n",
    "- `avg_first_seven` - average number of customers who visited in the first seven days\n",
    "- `avg_last_seven` - average number of customers who visited in the last seven days\n",
    "- `max_month` - number of customers on the day that got the most customers in the last month\n",
    "- `min_month` - number of customers on the day that got the least customers in the last month\n",
    "\n",
    "Answer this question by writing code.  For instance, if you have to find the minimum value in a list, use `min()` instead of scanning for the smallest value and directly filling in a number."
   ]
  },
  {
   "cell_type": "code",
   "execution_count": 4,
   "id": "fa9ed848",
   "metadata": {
    "execution": {
     "iopub.execute_input": "2023-07-22T10:05:10.219398Z",
     "iopub.status.busy": "2023-07-22T10:05:10.218667Z",
     "iopub.status.idle": "2023-07-22T10:05:10.230581Z",
     "shell.execute_reply": "2023-07-22T10:05:10.229646Z"
    },
    "papermill": {
     "duration": 0.025645,
     "end_time": "2023-07-22T10:05:10.232867",
     "exception": false,
     "start_time": "2023-07-22T10:05:10.207222",
     "status": "completed"
    },
    "tags": []
   },
   "outputs": [
    {
     "data": {
      "application/javascript": [
       "parent.postMessage({\"jupyterEvent\": \"custom.exercise_interaction\", \"data\": {\"outcomeType\": 1, \"valueTowardsCompletion\": 0.2, \"interactionType\": 1, \"questionType\": 1, \"questionId\": \"2_NumCustomers\", \"learnToolsVersion\": \"0.3.4\", \"failureMessage\": \"\", \"exceptionClass\": \"\", \"trace\": \"\"}}, \"*\")"
      ],
      "text/plain": [
       "<IPython.core.display.Javascript object>"
      ]
     },
     "metadata": {},
     "output_type": "display_data"
    },
    {
     "data": {
      "text/markdown": [
       "<span style=\"color:#33cc33\">Correct</span>"
      ],
      "text/plain": [
       "Correct"
      ]
     },
     "metadata": {},
     "output_type": "display_data"
    }
   ],
   "source": [
    "# Do not change: Number of customers each day for the last month\n",
    "num_customers = [137, 147, 135, 128, 170, 174, 165, 146, 126, 159,\n",
    "                 141, 148, 132, 147, 168, 153, 170, 161, 148, 152,\n",
    "                 141, 151, 131, 149, 164, 163, 143, 143, 166, 171]\n",
    "\n",
    "# TODO: Fill in values for the variables below\n",
    "avg_first_seven = sum(num_customers[:7])/7\n",
    "\n",
    "avg_last_seven =  sum(num_customers[-7:])/7\n",
    "max_month = max(num_customers)\n",
    "min_month = min(num_customers)\n",
    "\n",
    "# Do not change: Check your answer\n",
    "q2.check()"
   ]
  },
  {
   "cell_type": "code",
   "execution_count": 5,
   "id": "7582ac01",
   "metadata": {
    "execution": {
     "iopub.execute_input": "2023-07-22T10:05:10.252845Z",
     "iopub.status.busy": "2023-07-22T10:05:10.252411Z",
     "iopub.status.idle": "2023-07-22T10:05:10.261580Z",
     "shell.execute_reply": "2023-07-22T10:05:10.260664Z"
    },
    "papermill": {
     "duration": 0.021866,
     "end_time": "2023-07-22T10:05:10.263767",
     "exception": false,
     "start_time": "2023-07-22T10:05:10.241901",
     "status": "completed"
    },
    "tags": []
   },
   "outputs": [
    {
     "data": {
      "application/javascript": [
       "parent.postMessage({\"jupyterEvent\": \"custom.exercise_interaction\", \"data\": {\"interactionType\": 2, \"questionType\": 1, \"questionId\": \"2_NumCustomers\", \"learnToolsVersion\": \"0.3.4\", \"valueTowardsCompletion\": 0.0, \"failureMessage\": \"\", \"exceptionClass\": \"\", \"trace\": \"\", \"outcomeType\": 4}}, \"*\")"
      ],
      "text/plain": [
       "<IPython.core.display.Javascript object>"
      ]
     },
     "metadata": {},
     "output_type": "display_data"
    },
    {
     "data": {
      "text/markdown": [
       "<span style=\"color:#3366cc\">Hint:</span> To take the average of a list of numbers, you can calculate the sum and then divide by the length. And, to pull the last `y` entries of a list `my_list`, use `my_list[-y:]`."
      ],
      "text/plain": [
       "Hint: To take the average of a list of numbers, you can calculate the sum and then divide by the length. And, to pull the last `y` entries of a list `my_list`, use `my_list[-y:]`."
      ]
     },
     "metadata": {},
     "output_type": "display_data"
    }
   ],
   "source": [
    "# Uncomment to see a hint\n",
    "q2.hint()\n",
    "\n",
    "# Uncomment to see the solution\n",
    "#q2.solution()"
   ]
  },
  {
   "cell_type": "markdown",
   "id": "eb1b191d",
   "metadata": {
    "papermill": {
     "duration": 0.009043,
     "end_time": "2023-07-22T10:05:10.282174",
     "exception": false,
     "start_time": "2023-07-22T10:05:10.273131",
     "status": "completed"
    },
    "tags": []
   },
   "source": [
    "# Question 3\n",
    "\n",
    "In the tutorial, we gave an example of a Python string with information that was better as a list."
   ]
  },
  {
   "cell_type": "code",
   "execution_count": 6,
   "id": "d373e216",
   "metadata": {
    "execution": {
     "iopub.execute_input": "2023-07-22T10:05:10.303254Z",
     "iopub.status.busy": "2023-07-22T10:05:10.302140Z",
     "iopub.status.idle": "2023-07-22T10:05:10.307877Z",
     "shell.execute_reply": "2023-07-22T10:05:10.306708Z"
    },
    "papermill": {
     "duration": 0.018675,
     "end_time": "2023-07-22T10:05:10.310215",
     "exception": false,
     "start_time": "2023-07-22T10:05:10.291540",
     "status": "completed"
    },
    "tags": []
   },
   "outputs": [],
   "source": [
    "flowers = \"pink primrose,hard-leaved pocket orchid,canterbury bells,sweet pea,english marigold,tiger lily,moon orchid,bird of paradise,monkshood,globe thistle\""
   ]
  },
  {
   "cell_type": "markdown",
   "id": "dee3b916",
   "metadata": {
    "papermill": {
     "duration": 0.009176,
     "end_time": "2023-07-22T10:05:10.329248",
     "exception": false,
     "start_time": "2023-07-22T10:05:10.320072",
     "status": "completed"
    },
    "tags": []
   },
   "source": [
    "You can actually use Python to quickly turn this string into a list with `.split()`.  In the parentheses, we need to provide the character should be used to mark the end of one list item and the beginning of another, and enclose it in quotation marks.  In this case, that character is a comma."
   ]
  },
  {
   "cell_type": "code",
   "execution_count": 7,
   "id": "0a7b2657",
   "metadata": {
    "execution": {
     "iopub.execute_input": "2023-07-22T10:05:10.350499Z",
     "iopub.status.busy": "2023-07-22T10:05:10.349497Z",
     "iopub.status.idle": "2023-07-22T10:05:10.355519Z",
     "shell.execute_reply": "2023-07-22T10:05:10.354698Z"
    },
    "papermill": {
     "duration": 0.018891,
     "end_time": "2023-07-22T10:05:10.357757",
     "exception": false,
     "start_time": "2023-07-22T10:05:10.338866",
     "status": "completed"
    },
    "tags": []
   },
   "outputs": [
    {
     "name": "stdout",
     "output_type": "stream",
     "text": [
      "['pink primrose', 'hard-leaved pocket orchid', 'canterbury bells', 'sweet pea', 'english marigold', 'tiger lily', 'moon orchid', 'bird of paradise', 'monkshood', 'globe thistle']\n"
     ]
    }
   ],
   "source": [
    " print(flowers.split(\",\"))"
   ]
  },
  {
   "cell_type": "markdown",
   "id": "ad7cbb48",
   "metadata": {
    "papermill": {
     "duration": 0.009095,
     "end_time": "2023-07-22T10:05:10.376390",
     "exception": false,
     "start_time": "2023-07-22T10:05:10.367295",
     "status": "completed"
    },
    "tags": []
   },
   "source": [
    "Now it is your turn to try this out!  Create two Python lists:\n",
    "- `letters` should be a Python list where each entry is an uppercase letter of the English alphabet.  For instance, the first two entries should be `\"A\"` and `\"B\"`, and the final two entries should be `\"Y\"` and `\"Z\"`.  Use the string `alphabet` to create this list.\n",
    "- `address` should be a Python list where each row in `address` is a different item in the list.  Currently, each row in `address` is separated by a comma. "
   ]
  },
  {
   "cell_type": "code",
   "execution_count": 8,
   "id": "e2efa785",
   "metadata": {
    "execution": {
     "iopub.execute_input": "2023-07-22T10:05:10.397271Z",
     "iopub.status.busy": "2023-07-22T10:05:10.396163Z",
     "iopub.status.idle": "2023-07-22T10:05:10.408006Z",
     "shell.execute_reply": "2023-07-22T10:05:10.406664Z"
    },
    "papermill": {
     "duration": 0.024497,
     "end_time": "2023-07-22T10:05:10.410323",
     "exception": false,
     "start_time": "2023-07-22T10:05:10.385826",
     "status": "completed"
    },
    "tags": []
   },
   "outputs": [
    {
     "data": {
      "application/javascript": [
       "parent.postMessage({\"jupyterEvent\": \"custom.exercise_interaction\", \"data\": {\"outcomeType\": 1, \"valueTowardsCompletion\": 0.2, \"interactionType\": 1, \"questionType\": 1, \"questionId\": \"3_SplitString\", \"learnToolsVersion\": \"0.3.4\", \"failureMessage\": \"\", \"exceptionClass\": \"\", \"trace\": \"\"}}, \"*\")"
      ],
      "text/plain": [
       "<IPython.core.display.Javascript object>"
      ]
     },
     "metadata": {},
     "output_type": "display_data"
    },
    {
     "data": {
      "text/markdown": [
       "<span style=\"color:#33cc33\">Correct</span>"
      ],
      "text/plain": [
       "Correct"
      ]
     },
     "metadata": {},
     "output_type": "display_data"
    }
   ],
   "source": [
    "# DO not change: Define two Python strings\n",
    "alphabet = \"A.B.C.D.E.F.G.H.I.J.K.L.M.N.O.P.Q.R.S.T.U.V.W.X.Y.Z\"\n",
    "address = \"Mr. H. Potter,The cupboard under the Stairs,4 Privet Drive,Little Whinging,Surrey\"\n",
    "\n",
    "# TODO: Convert strings into Python lists\n",
    "letters = alphabet.split(\".\")\n",
    "formatted_address = address.split(\",\")\n",
    "\n",
    "# Do not change: Check your answer\n",
    "q3.check()"
   ]
  },
  {
   "cell_type": "code",
   "execution_count": 9,
   "id": "f4f4799a",
   "metadata": {
    "execution": {
     "iopub.execute_input": "2023-07-22T10:05:10.431712Z",
     "iopub.status.busy": "2023-07-22T10:05:10.431279Z",
     "iopub.status.idle": "2023-07-22T10:05:10.436659Z",
     "shell.execute_reply": "2023-07-22T10:05:10.435638Z"
    },
    "papermill": {
     "duration": 0.018673,
     "end_time": "2023-07-22T10:05:10.438929",
     "exception": false,
     "start_time": "2023-07-22T10:05:10.420256",
     "status": "completed"
    },
    "tags": []
   },
   "outputs": [],
   "source": [
    "# Uncomment to see a hint\n",
    "#q3.hint()\n",
    "\n",
    "# Uncomment to see the solution\n",
    "#q3.solution()"
   ]
  },
  {
   "cell_type": "markdown",
   "id": "a2370bb9",
   "metadata": {
    "papermill": {
     "duration": 0.009496,
     "end_time": "2023-07-22T10:05:10.458435",
     "exception": false,
     "start_time": "2023-07-22T10:05:10.448939",
     "status": "completed"
    },
    "tags": []
   },
   "source": [
    "# Question 4\n",
    "\n",
    "In the Python course, you'll learn all about **list comprehensions**, which allow you to create a list based on the values in another list.  In this question, you'll get a brief preview of how they work.\n",
    "\n",
    "Say we're working with the list below."
   ]
  },
  {
   "cell_type": "code",
   "execution_count": 10,
   "id": "b01a5c49",
   "metadata": {
    "execution": {
     "iopub.execute_input": "2023-07-22T10:05:10.479328Z",
     "iopub.status.busy": "2023-07-22T10:05:10.478930Z",
     "iopub.status.idle": "2023-07-22T10:05:10.483637Z",
     "shell.execute_reply": "2023-07-22T10:05:10.482632Z"
    },
    "papermill": {
     "duration": 0.017863,
     "end_time": "2023-07-22T10:05:10.486036",
     "exception": false,
     "start_time": "2023-07-22T10:05:10.468173",
     "status": "completed"
    },
    "tags": []
   },
   "outputs": [],
   "source": [
    "test_ratings = [1, 2, 3, 4, 5]"
   ]
  },
  {
   "cell_type": "markdown",
   "id": "dd7d2337",
   "metadata": {
    "papermill": {
     "duration": 0.008968,
     "end_time": "2023-07-22T10:05:10.504268",
     "exception": false,
     "start_time": "2023-07-22T10:05:10.495300",
     "status": "completed"
    },
    "tags": []
   },
   "source": [
    "Then we can use this list (`test_ratings`) to create a new list (`test_liked`) where each item has been turned into a boolean, depending on whether or not the item is greater than or equal to four."
   ]
  },
  {
   "cell_type": "code",
   "execution_count": 11,
   "id": "b3f8d2e4",
   "metadata": {
    "execution": {
     "iopub.execute_input": "2023-07-22T10:05:10.524617Z",
     "iopub.status.busy": "2023-07-22T10:05:10.524238Z",
     "iopub.status.idle": "2023-07-22T10:05:10.529808Z",
     "shell.execute_reply": "2023-07-22T10:05:10.528634Z"
    },
    "papermill": {
     "duration": 0.018524,
     "end_time": "2023-07-22T10:05:10.532072",
     "exception": false,
     "start_time": "2023-07-22T10:05:10.513548",
     "status": "completed"
    },
    "tags": []
   },
   "outputs": [
    {
     "name": "stdout",
     "output_type": "stream",
     "text": [
      "[False, False, False, True, True]\n"
     ]
    }
   ],
   "source": [
    "test_liked = [i>=4 for i in test_ratings]\n",
    "print(test_liked)"
   ]
  },
  {
   "cell_type": "markdown",
   "id": "7b833e79",
   "metadata": {
    "papermill": {
     "duration": 0.009593,
     "end_time": "2023-07-22T10:05:10.551645",
     "exception": false,
     "start_time": "2023-07-22T10:05:10.542052",
     "status": "completed"
    },
    "tags": []
   },
   "source": [
    "In this question, you'll use this list comprehension to define a function `percentage_liked()` that takes one argument as input:\n",
    "- `ratings`: list of ratings that people gave to a movie, where each rating is a number between 1-5, inclusive\n",
    "\n",
    "We say someone liked the movie, if they gave a rating of either 4 or 5.  Your function should return the percentage of people who liked the movie.\n",
    "\n",
    "For instance, if we supply a value of `[1, 2, 3, 4, 5, 4, 5, 1]`, then 50% (4/8) of the people liked the movie, and the function should return `0.5`.\n",
    "\n",
    "Part of the function has already been completed for you.  You need only use `list_liked` to calculate `percentage_liked`."
   ]
  },
  {
   "cell_type": "code",
   "execution_count": 12,
   "id": "f9bfaab4",
   "metadata": {
    "execution": {
     "iopub.execute_input": "2023-07-22T10:05:10.573986Z",
     "iopub.status.busy": "2023-07-22T10:05:10.573604Z",
     "iopub.status.idle": "2023-07-22T10:05:10.584823Z",
     "shell.execute_reply": "2023-07-22T10:05:10.583642Z"
    },
    "papermill": {
     "duration": 0.025127,
     "end_time": "2023-07-22T10:05:10.587002",
     "exception": false,
     "start_time": "2023-07-22T10:05:10.561875",
     "status": "completed"
    },
    "tags": []
   },
   "outputs": [
    {
     "data": {
      "application/javascript": [
       "parent.postMessage({\"jupyterEvent\": \"custom.exercise_interaction\", \"data\": {\"outcomeType\": 1, \"valueTowardsCompletion\": 0.2, \"interactionType\": 1, \"questionType\": 2, \"questionId\": \"4_PercentageLiked\", \"learnToolsVersion\": \"0.3.4\", \"failureMessage\": \"\", \"exceptionClass\": \"\", \"trace\": \"\"}}, \"*\")"
      ],
      "text/plain": [
       "<IPython.core.display.Javascript object>"
      ]
     },
     "metadata": {},
     "output_type": "display_data"
    },
    {
     "data": {
      "text/markdown": [
       "<span style=\"color:#33cc33\">Correct</span>"
      ],
      "text/plain": [
       "Correct"
      ]
     },
     "metadata": {},
     "output_type": "display_data"
    }
   ],
   "source": [
    "\n",
    "def percentage_liked(ratings):\n",
    "    list_liked = [i>=4 for i in ratings]\n",
    "    \n",
    "    # TODO: Complete the function\n",
    "    percentage_liked = sum(list_liked)/len(ratings)\n",
    "    return percentage_liked\n",
    "\n",
    "# Do not change: should return 0.5\n",
    "percentage_liked([1, 2, 3, 4, 5, 4, 5, 1])\n",
    "\n",
    "# Do not change: Check your answer\n",
    "q4.check()"
   ]
  },
  {
   "cell_type": "code",
   "execution_count": 13,
   "id": "d8044f36",
   "metadata": {
    "execution": {
     "iopub.execute_input": "2023-07-22T10:05:10.609348Z",
     "iopub.status.busy": "2023-07-22T10:05:10.608939Z",
     "iopub.status.idle": "2023-07-22T10:05:10.617388Z",
     "shell.execute_reply": "2023-07-22T10:05:10.616607Z"
    },
    "papermill": {
     "duration": 0.022258,
     "end_time": "2023-07-22T10:05:10.619479",
     "exception": false,
     "start_time": "2023-07-22T10:05:10.597221",
     "status": "completed"
    },
    "tags": []
   },
   "outputs": [
    {
     "data": {
      "application/javascript": [
       "parent.postMessage({\"jupyterEvent\": \"custom.exercise_interaction\", \"data\": {\"interactionType\": 2, \"questionType\": 2, \"questionId\": \"4_PercentageLiked\", \"learnToolsVersion\": \"0.3.4\", \"valueTowardsCompletion\": 0.0, \"failureMessage\": \"\", \"exceptionClass\": \"\", \"trace\": \"\", \"outcomeType\": 4}}, \"*\")"
      ],
      "text/plain": [
       "<IPython.core.display.Javascript object>"
      ]
     },
     "metadata": {},
     "output_type": "display_data"
    },
    {
     "data": {
      "text/markdown": [
       "<span style=\"color:#3366cc\">Hint:</span> Remember that when we add booleans, it returns the total number of entries in the sum that are `True`."
      ],
      "text/plain": [
       "Hint: Remember that when we add booleans, it returns the total number of entries in the sum that are `True`."
      ]
     },
     "metadata": {},
     "output_type": "display_data"
    }
   ],
   "source": [
    "# Uncomment to see a hint\n",
    "q4.hint()\n",
    "\n",
    "# Uncomment to see the solution\n",
    "#q4.solution()"
   ]
  },
  {
   "cell_type": "markdown",
   "id": "deb56850",
   "metadata": {
    "papermill": {
     "duration": 0.010289,
     "end_time": "2023-07-22T10:05:10.640316",
     "exception": false,
     "start_time": "2023-07-22T10:05:10.630027",
     "status": "completed"
    },
    "tags": []
   },
   "source": [
    "# 🌶️ Question 5\n",
    " \n",
    "Say you're doing analytics for a website.  You need to write a function that returns the percentage growth in the total number of users relative to a specified number of years ago.\n",
    "\n",
    "Your function `percentage_growth()` should take two arguments as input:\n",
    "- `num_users` = Python list with the total number of users each year.  So `num_users[0]` is the total number of users in the first year, `num_users[1]` is the total number of users in the second year, and so on.  The final entry in the list gives the total number of users in the most recently completed year.\n",
    "- `yrs_ago` = number of years to go back in time when calculating the growth percentage\n",
    "\n",
    "For instance, say `num_users = [920344, 1043553, 1204334, 1458996, 1503323, 1593432, 1623463, 1843064, 1930992, 2001078]`.\n",
    "- if `yrs_ago = 1`, we want the function to return a value of about `0.036`. This corresponds to a percentage growth of approximately 3.6%, calculated as (2001078 - 1930992)/1930992.\n",
    "- if `years_ago = 7`, we would want to return approximately `0.66`.  This corresponds to a percentage growth of approximately 66%, calculated as (2001078 - 1204334)/1204334.\n",
    "\n",
    "Your coworker sent you a draft of a function, but it doesn't seem to be doing the correct calculation.  Can you figure out what has gone wrong and make the needed changes?"
   ]
  },
  {
   "cell_type": "code",
   "execution_count": 14,
   "id": "45cdcea5",
   "metadata": {
    "execution": {
     "iopub.execute_input": "2023-07-22T10:05:10.662768Z",
     "iopub.status.busy": "2023-07-22T10:05:10.662291Z",
     "iopub.status.idle": "2023-07-22T10:05:10.675711Z",
     "shell.execute_reply": "2023-07-22T10:05:10.674600Z"
    },
    "papermill": {
     "duration": 0.027349,
     "end_time": "2023-07-22T10:05:10.678032",
     "exception": false,
     "start_time": "2023-07-22T10:05:10.650683",
     "status": "completed"
    },
    "tags": []
   },
   "outputs": [
    {
     "name": "stdout",
     "output_type": "stream",
     "text": [
      "0.03629533421163837\n",
      "0.6615639847417742\n"
     ]
    },
    {
     "data": {
      "application/javascript": [
       "parent.postMessage({\"jupyterEvent\": \"custom.exercise_interaction\", \"data\": {\"outcomeType\": 1, \"valueTowardsCompletion\": 0.2, \"interactionType\": 1, \"questionType\": 2, \"questionId\": \"5_WebsiteAnalytics\", \"learnToolsVersion\": \"0.3.4\", \"failureMessage\": \"\", \"exceptionClass\": \"\", \"trace\": \"\"}}, \"*\")"
      ],
      "text/plain": [
       "<IPython.core.display.Javascript object>"
      ]
     },
     "metadata": {},
     "output_type": "display_data"
    },
    {
     "data": {
      "text/markdown": [
       "<span style=\"color:#33cc33\">Correct</span>"
      ],
      "text/plain": [
       "Correct"
      ]
     },
     "metadata": {},
     "output_type": "display_data"
    }
   ],
   "source": [
    "# TODO: Edit the function\n",
    "def percentage_growth(num_users, yrs_ago):\n",
    "    growth = (num_users[len(num_users)-1] - num_users[len(num_users)-1-yrs_ago])/num_users[len(num_users)-1-yrs_ago]\n",
    "    return growth\n",
    "\n",
    "# Do not change: Variable for calculating some test examples\n",
    "num_users_test = [920344, 1043553, 1204334, 1458996, 1503323, 1593432, 1623463, 1843064, 1930992, 2001078]\n",
    "\n",
    "# Do not change: Should return .036\n",
    "print(percentage_growth(num_users_test, 1))\n",
    "\n",
    "# Do not change: Should return 0.66\n",
    "print(percentage_growth(num_users_test, 7))\n",
    "\n",
    "# Do not change: Check your answer\n",
    "q5.check()"
   ]
  },
  {
   "cell_type": "code",
   "execution_count": 15,
   "id": "633eda24",
   "metadata": {
    "execution": {
     "iopub.execute_input": "2023-07-22T10:05:10.701942Z",
     "iopub.status.busy": "2023-07-22T10:05:10.701246Z",
     "iopub.status.idle": "2023-07-22T10:05:10.706777Z",
     "shell.execute_reply": "2023-07-22T10:05:10.705627Z"
    },
    "papermill": {
     "duration": 0.019969,
     "end_time": "2023-07-22T10:05:10.709027",
     "exception": false,
     "start_time": "2023-07-22T10:05:10.689058",
     "status": "completed"
    },
    "tags": []
   },
   "outputs": [],
   "source": [
    "# Uncomment to see a hint\n",
    "#q5.hint()\n",
    "\n",
    "# Uncomment to see the solution\n",
    "#q5.solution()"
   ]
  },
  {
   "cell_type": "markdown",
   "id": "5934b7fb",
   "metadata": {
    "papermill": {
     "duration": 0.010498,
     "end_time": "2023-07-22T10:05:10.730424",
     "exception": false,
     "start_time": "2023-07-22T10:05:10.719926",
     "status": "completed"
    },
    "tags": []
   },
   "source": [
    "# Congratulations!\n",
    "\n",
    "Congratulations for finishing the Intro to Programming course!  You should be proud of your very first steps with learning programming.  As next steps, we recommend taking:\n",
    "- the **[Python course](http://www.kaggle.com/learn/python)**, and \n",
    "- the **[Intro to Machine Learning course](https://www.kaggle.com/learn/intro-to-machine-learning)**."
   ]
  },
  {
   "cell_type": "markdown",
   "id": "281daded",
   "metadata": {
    "papermill": {
     "duration": 0.010613,
     "end_time": "2023-07-22T10:05:10.751818",
     "exception": false,
     "start_time": "2023-07-22T10:05:10.741205",
     "status": "completed"
    },
    "tags": []
   },
   "source": [
    "---\n",
    "\n",
    "\n",
    "\n",
    "\n",
    "*Have questions or comments? Visit the [course discussion forum](https://www.kaggle.com/learn/intro-to-programming/discussion) to chat with other learners.*"
   ]
  }
 ],
 "metadata": {
  "kernelspec": {
   "display_name": "Python 3",
   "language": "python",
   "name": "python3"
  },
  "language_info": {
   "codemirror_mode": {
    "name": "ipython",
    "version": 3
   },
   "file_extension": ".py",
   "mimetype": "text/x-python",
   "name": "python",
   "nbconvert_exporter": "python",
   "pygments_lexer": "ipython3",
   "version": "3.10.12"
  },
  "papermill": {
   "default_parameters": {},
   "duration": 12.62868,
   "end_time": "2023-07-22T10:05:11.591142",
   "environment_variables": {},
   "exception": null,
   "input_path": "__notebook__.ipynb",
   "output_path": "__notebook__.ipynb",
   "parameters": {},
   "start_time": "2023-07-22T10:04:58.962462",
   "version": "2.4.0"
  }
 },
 "nbformat": 4,
 "nbformat_minor": 5
}
