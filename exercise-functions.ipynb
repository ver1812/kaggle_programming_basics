{
 "cells": [
  {
   "cell_type": "markdown",
   "id": "9b024b35",
   "metadata": {
    "papermill": {
     "duration": 0.005217,
     "end_time": "2023-07-22T09:10:54.466670",
     "exception": false,
     "start_time": "2023-07-22T09:10:54.461453",
     "status": "completed"
    },
    "tags": []
   },
   "source": [
    "**This notebook is an exercise in the [Intro to Programming](https://www.kaggle.com/learn/intro-to-programming) course.  You can reference the tutorial at [this link](https://www.kaggle.com/alexisbcook/functions).**\n",
    "\n",
    "---\n"
   ]
  },
  {
   "cell_type": "markdown",
   "id": "7a61b703",
   "metadata": {
    "papermill": {
     "duration": 0.004387,
     "end_time": "2023-07-22T09:10:54.475769",
     "exception": false,
     "start_time": "2023-07-22T09:10:54.471382",
     "status": "completed"
    },
    "tags": []
   },
   "source": [
    "In the tutorial, you learned about functions. In this exercise, you'll write some of your own!\n",
    "\n",
    "# Set up the notebook\n",
    "\n",
    "Run the next code cell without changes to set up the notebook."
   ]
  },
  {
   "cell_type": "code",
   "execution_count": 1,
   "id": "18d7a685",
   "metadata": {
    "execution": {
     "iopub.execute_input": "2023-07-22T09:10:54.486538Z",
     "iopub.status.busy": "2023-07-22T09:10:54.486198Z",
     "iopub.status.idle": "2023-07-22T09:10:54.526227Z",
     "shell.execute_reply": "2023-07-22T09:10:54.524849Z"
    },
    "papermill": {
     "duration": 0.047888,
     "end_time": "2023-07-22T09:10:54.528201",
     "exception": false,
     "start_time": "2023-07-22T09:10:54.480313",
     "status": "completed"
    },
    "tags": []
   },
   "outputs": [
    {
     "name": "stdout",
     "output_type": "stream",
     "text": [
      "Setup complete.\n"
     ]
    }
   ],
   "source": [
    "# Set up the exercise\n",
    "import math\n",
    "from learntools.core import binder\n",
    "binder.bind(globals())\n",
    "from learntools.intro_to_programming.ex2 import *\n",
    "print('Setup complete.')"
   ]
  },
  {
   "cell_type": "markdown",
   "id": "d81bcb96",
   "metadata": {
    "papermill": {
     "duration": 0.004325,
     "end_time": "2023-07-22T09:10:54.537397",
     "exception": false,
     "start_time": "2023-07-22T09:10:54.533072",
     "status": "completed"
    },
    "tags": []
   },
   "source": [
    "# Question 1\n",
    "\n",
    "In the [House Prices - Advanced Regression Techniques competition](https://www.kaggle.com/c/house-prices-advanced-regression-techniques/overview), you need to use information like the number of bedrooms and bathrooms to predict the price of a house.  Inspired by this competition, you'll write your own function to do this.\n",
    "\n",
    "In the next code cell, create a function `get_expected_cost()` that has two arguments:\n",
    "- `beds` - number of bedrooms \n",
    "- `baths` - number of bathrooms\n",
    "\n",
    "It should return the expected cost of a house with that number of bedrooms and bathrooms.  Assume that:\n",
    "- the expected cost for a house with 0 bedrooms and 0 bathrooms is `80000`.  \n",
    "- each bedroom adds `30000` to the expected cost\n",
    "- each bathroom adds `10000` to the expected cost.\n",
    "\n",
    "For instance, \n",
    "- a house with 1 bedroom and 1 bathroom has an expected cost of `120000`, and \n",
    "- a house with 2 bedrooms and 1 bathroom has an expected cost of `150000`."
   ]
  },
  {
   "cell_type": "code",
   "execution_count": 2,
   "id": "d8d59852",
   "metadata": {
    "execution": {
     "iopub.execute_input": "2023-07-22T09:10:54.548437Z",
     "iopub.status.busy": "2023-07-22T09:10:54.548090Z",
     "iopub.status.idle": "2023-07-22T09:10:54.559347Z",
     "shell.execute_reply": "2023-07-22T09:10:54.558396Z"
    },
    "papermill": {
     "duration": 0.019091,
     "end_time": "2023-07-22T09:10:54.561005",
     "exception": false,
     "start_time": "2023-07-22T09:10:54.541914",
     "status": "completed"
    },
    "tags": []
   },
   "outputs": [
    {
     "data": {
      "application/javascript": [
       "parent.postMessage({\"jupyterEvent\": \"custom.exercise_interaction\", \"data\": {\"outcomeType\": 1, \"valueTowardsCompletion\": 0.2, \"interactionType\": 1, \"questionType\": 2, \"questionId\": \"1_GetExpectedCost\", \"learnToolsVersion\": \"0.3.4\", \"failureMessage\": \"\", \"exceptionClass\": \"\", \"trace\": \"\"}}, \"*\")"
      ],
      "text/plain": [
       "<IPython.core.display.Javascript object>"
      ]
     },
     "metadata": {},
     "output_type": "display_data"
    },
    {
     "data": {
      "text/markdown": [
       "<span style=\"color:#33cc33\">Correct</span>"
      ],
      "text/plain": [
       "Correct"
      ]
     },
     "metadata": {},
     "output_type": "display_data"
    }
   ],
   "source": [
    "# TODO: Complete the function\n",
    "def get_expected_cost(beds, baths):\n",
    "    value = 80000+(30000*beds)+(10000*baths)\n",
    "    return value\n",
    "\n",
    "# Check your answer \n",
    "q1.check()"
   ]
  },
  {
   "cell_type": "code",
   "execution_count": 3,
   "id": "68586ef4",
   "metadata": {
    "execution": {
     "iopub.execute_input": "2023-07-22T09:10:54.574448Z",
     "iopub.status.busy": "2023-07-22T09:10:54.573818Z",
     "iopub.status.idle": "2023-07-22T09:10:54.578814Z",
     "shell.execute_reply": "2023-07-22T09:10:54.577745Z"
    },
    "papermill": {
     "duration": 0.01405,
     "end_time": "2023-07-22T09:10:54.580999",
     "exception": false,
     "start_time": "2023-07-22T09:10:54.566949",
     "status": "completed"
    },
    "tags": []
   },
   "outputs": [],
   "source": [
    "# Uncomment to see a hint\n",
    "#q1.hint()\n",
    "\n",
    "# Uncomment to view the solution\n",
    "#q1.solution()"
   ]
  },
  {
   "cell_type": "markdown",
   "id": "8f8cd0b5",
   "metadata": {
    "papermill": {
     "duration": 0.004689,
     "end_time": "2023-07-22T09:10:54.591082",
     "exception": false,
     "start_time": "2023-07-22T09:10:54.586393",
     "status": "completed"
    },
    "tags": []
   },
   "source": [
    "# Question 2\n",
    "\n",
    "You are thinking about buying a home and want to get an idea of how much you will spend, based on the number of bedrooms and bathrooms.  You are trying to decide between four different options:\n",
    "- Option 1: house with two bedrooms and three bathrooms\n",
    "- Option 2: house with three bedrooms and two bathrooms\n",
    "- Option 3: house with three bedrooms and three bathrooms\n",
    "- Option 4: house with three bedrooms and four bathrooms\n",
    "\n",
    "Use the `get_expected_cost()` function you defined in question 1 to set `option_1`, `option_2`, `option_3`, and `option_4` to the expected cost of each option."
   ]
  },
  {
   "cell_type": "code",
   "execution_count": 4,
   "id": "db05f2bd",
   "metadata": {
    "execution": {
     "iopub.execute_input": "2023-07-22T09:10:54.603049Z",
     "iopub.status.busy": "2023-07-22T09:10:54.602676Z",
     "iopub.status.idle": "2023-07-22T09:10:54.611680Z",
     "shell.execute_reply": "2023-07-22T09:10:54.611048Z"
    },
    "papermill": {
     "duration": 0.017259,
     "end_time": "2023-07-22T09:10:54.613100",
     "exception": false,
     "start_time": "2023-07-22T09:10:54.595841",
     "status": "completed"
    },
    "tags": []
   },
   "outputs": [
    {
     "name": "stdout",
     "output_type": "stream",
     "text": [
      "170000\n",
      "190000\n",
      "200000\n",
      "210000\n"
     ]
    },
    {
     "data": {
      "application/javascript": [
       "parent.postMessage({\"jupyterEvent\": \"custom.exercise_interaction\", \"data\": {\"outcomeType\": 1, \"valueTowardsCompletion\": 0.2, \"interactionType\": 1, \"questionType\": 1, \"questionId\": \"2_RunGetExpectedCost\", \"learnToolsVersion\": \"0.3.4\", \"failureMessage\": \"\", \"exceptionClass\": \"\", \"trace\": \"\"}}, \"*\")"
      ],
      "text/plain": [
       "<IPython.core.display.Javascript object>"
      ]
     },
     "metadata": {},
     "output_type": "display_data"
    },
    {
     "data": {
      "text/markdown": [
       "<span style=\"color:#33cc33\">Correct</span>"
      ],
      "text/plain": [
       "Correct"
      ]
     },
     "metadata": {},
     "output_type": "display_data"
    }
   ],
   "source": [
    "# TODO: Use the get_expected_cost function to fill in each value\n",
    "option_one = get_expected_cost(2,3)\n",
    "option_two = get_expected_cost(3,2)\n",
    "option_three = get_expected_cost(3,3)\n",
    "option_four = get_expected_cost(3,4)\n",
    "\n",
    "print(option_one)\n",
    "print(option_two)\n",
    "print(option_three)\n",
    "print(option_four)\n",
    "\n",
    "# Check your answer\n",
    "q2.check()"
   ]
  },
  {
   "cell_type": "code",
   "execution_count": 5,
   "id": "f046a355",
   "metadata": {
    "execution": {
     "iopub.execute_input": "2023-07-22T09:10:54.625265Z",
     "iopub.status.busy": "2023-07-22T09:10:54.624621Z",
     "iopub.status.idle": "2023-07-22T09:10:54.628288Z",
     "shell.execute_reply": "2023-07-22T09:10:54.627659Z"
    },
    "papermill": {
     "duration": 0.011907,
     "end_time": "2023-07-22T09:10:54.630176",
     "exception": false,
     "start_time": "2023-07-22T09:10:54.618269",
     "status": "completed"
    },
    "tags": []
   },
   "outputs": [],
   "source": [
    "# Uncomment to see a hint\n",
    "#q2.hint()\n",
    "\n",
    "# Uncomment to view the solution\n",
    "#q2.solution()"
   ]
  },
  {
   "cell_type": "markdown",
   "id": "d6bc667b",
   "metadata": {
    "papermill": {
     "duration": 0.004764,
     "end_time": "2023-07-22T09:10:54.640075",
     "exception": false,
     "start_time": "2023-07-22T09:10:54.635311",
     "status": "completed"
    },
    "tags": []
   },
   "source": [
    "# Question 3\n",
    "\n",
    "You're a home decorator, and you'd like to use Python to streamline some of your work.  Specifically, you're creating a tool that you intend to use to calculate the cost of painting a room.\n",
    "\n",
    "As a first step, define a function `get_cost()` that takes as input:\n",
    "- `sqft_walls` = total square feet of walls to be painted\n",
    "- `sqft_ceiling` = square feet of ceiling to be painted\n",
    "- `sqft_per_gallon` = number of square feet that you can cover with one gallon of paint\n",
    "- `cost_per_gallon` = cost (in dollars) of one gallon of paint\n",
    "\n",
    "It should return the cost (in dollars) of putting one coat of paint on all walls and the ceiling.  Assume you can buy the exact amount of paint that you need, so you can buy partial gallons (e.g., if you need 7.523 gallons, you can buy that exact amount, instead of needing to buy 8 gallons and waste some paint).  Do not round your answer."
   ]
  },
  {
   "cell_type": "code",
   "execution_count": 6,
   "id": "fbb9e33e",
   "metadata": {
    "execution": {
     "iopub.execute_input": "2023-07-22T09:10:54.652144Z",
     "iopub.status.busy": "2023-07-22T09:10:54.651539Z",
     "iopub.status.idle": "2023-07-22T09:10:54.658551Z",
     "shell.execute_reply": "2023-07-22T09:10:54.657710Z"
    },
    "papermill": {
     "duration": 0.015096,
     "end_time": "2023-07-22T09:10:54.660103",
     "exception": false,
     "start_time": "2023-07-22T09:10:54.645007",
     "status": "completed"
    },
    "tags": []
   },
   "outputs": [
    {
     "data": {
      "application/javascript": [
       "parent.postMessage({\"jupyterEvent\": \"custom.exercise_interaction\", \"data\": {\"outcomeType\": 1, \"valueTowardsCompletion\": 0.2, \"interactionType\": 1, \"questionType\": 2, \"questionId\": \"3_GetCostPaint\", \"learnToolsVersion\": \"0.3.4\", \"failureMessage\": \"\", \"exceptionClass\": \"\", \"trace\": \"\"}}, \"*\")"
      ],
      "text/plain": [
       "<IPython.core.display.Javascript object>"
      ]
     },
     "metadata": {},
     "output_type": "display_data"
    },
    {
     "data": {
      "text/markdown": [
       "<span style=\"color:#33cc33\">Correct</span>"
      ],
      "text/plain": [
       "Correct"
      ]
     },
     "metadata": {},
     "output_type": "display_data"
    }
   ],
   "source": [
    "# TODO: Finish defining the function\n",
    "def get_cost(sqft_walls, sqft_ceiling, sqft_per_gallon, cost_per_gallon):\n",
    "    cost = ((sqft_walls + sqft_ceiling)/sqft_per_gallon)* cost_per_gallon\n",
    "    return cost\n",
    "\n",
    "# Check your answer\n",
    "q3.check()"
   ]
  },
  {
   "cell_type": "code",
   "execution_count": 7,
   "id": "d666b845",
   "metadata": {
    "execution": {
     "iopub.execute_input": "2023-07-22T09:10:54.672509Z",
     "iopub.status.busy": "2023-07-22T09:10:54.672141Z",
     "iopub.status.idle": "2023-07-22T09:10:54.676447Z",
     "shell.execute_reply": "2023-07-22T09:10:54.675164Z"
    },
    "papermill": {
     "duration": 0.01289,
     "end_time": "2023-07-22T09:10:54.678494",
     "exception": false,
     "start_time": "2023-07-22T09:10:54.665604",
     "status": "completed"
    },
    "tags": []
   },
   "outputs": [],
   "source": [
    "# Uncomment to see a hint\n",
    "#q3.hint()\n",
    "\n",
    "# Uncomment to view the solution\n",
    "#q3.solution()"
   ]
  },
  {
   "cell_type": "markdown",
   "id": "1aa84954",
   "metadata": {
    "papermill": {
     "duration": 0.005152,
     "end_time": "2023-07-22T09:10:54.689368",
     "exception": false,
     "start_time": "2023-07-22T09:10:54.684216",
     "status": "completed"
    },
    "tags": []
   },
   "source": [
    "# Question 4\n",
    "\n",
    "Use the `get_cost()` function you defined in Question 3 to calculate the cost of applying one coat of paint to a room with:\n",
    "- 432 square feet of walls, and\n",
    "- 144 square feet of ceiling.\n",
    "\n",
    "Assume that one gallon of paint covers 400 square feet and costs $15.  As in Question 3, assume you can buy partial gallons of paint.  Do not round your answer."
   ]
  },
  {
   "cell_type": "code",
   "execution_count": 8,
   "id": "73dcb89e",
   "metadata": {
    "execution": {
     "iopub.execute_input": "2023-07-22T09:10:54.701332Z",
     "iopub.status.busy": "2023-07-22T09:10:54.701034Z",
     "iopub.status.idle": "2023-07-22T09:10:54.708728Z",
     "shell.execute_reply": "2023-07-22T09:10:54.707761Z"
    },
    "papermill": {
     "duration": 0.016137,
     "end_time": "2023-07-22T09:10:54.710798",
     "exception": false,
     "start_time": "2023-07-22T09:10:54.694661",
     "status": "completed"
    },
    "tags": []
   },
   "outputs": [
    {
     "data": {
      "application/javascript": [
       "parent.postMessage({\"jupyterEvent\": \"custom.exercise_interaction\", \"data\": {\"outcomeType\": 1, \"valueTowardsCompletion\": 0.2, \"interactionType\": 1, \"questionType\": 1, \"questionId\": \"4_GetCostPaintExample\", \"learnToolsVersion\": \"0.3.4\", \"failureMessage\": \"\", \"exceptionClass\": \"\", \"trace\": \"\"}}, \"*\")"
      ],
      "text/plain": [
       "<IPython.core.display.Javascript object>"
      ]
     },
     "metadata": {},
     "output_type": "display_data"
    },
    {
     "data": {
      "text/markdown": [
       "<span style=\"color:#33cc33\">Correct</span>"
      ],
      "text/plain": [
       "Correct"
      ]
     },
     "metadata": {},
     "output_type": "display_data"
    }
   ],
   "source": [
    "# TODO: Set the project_cost variable to the cost of the project\n",
    "project_cost = get_cost(432,144,400,15)\n",
    "\n",
    "# Check your answer\n",
    "q4.check()"
   ]
  },
  {
   "cell_type": "code",
   "execution_count": 9,
   "id": "9010ee87",
   "metadata": {
    "execution": {
     "iopub.execute_input": "2023-07-22T09:10:54.723467Z",
     "iopub.status.busy": "2023-07-22T09:10:54.723178Z",
     "iopub.status.idle": "2023-07-22T09:10:54.726243Z",
     "shell.execute_reply": "2023-07-22T09:10:54.725686Z"
    },
    "papermill": {
     "duration": 0.01099,
     "end_time": "2023-07-22T09:10:54.727608",
     "exception": false,
     "start_time": "2023-07-22T09:10:54.716618",
     "status": "completed"
    },
    "tags": []
   },
   "outputs": [],
   "source": [
    "# Uncomment to see a hint\n",
    "#q4.hint()\n",
    "\n",
    "# Uncomment to view the solution\n",
    "#q4.solution()"
   ]
  },
  {
   "cell_type": "markdown",
   "id": "3ba2ff1e",
   "metadata": {
    "papermill": {
     "duration": 0.005357,
     "end_time": "2023-07-22T09:10:54.738530",
     "exception": false,
     "start_time": "2023-07-22T09:10:54.733173",
     "status": "completed"
    },
    "tags": []
   },
   "source": [
    "# 🌶️ Question 5\n",
    "\n",
    "Now say you can no longer buy fractions of a gallon.  (For instance, if you need 4.3 gallons to do a project, then you have to buy 5 gallons of paint.)\n",
    "\n",
    "With this new scenario, you will create a new function `get_actual_cost` that uses the same inputs and calculates the cost of your project.\n",
    "\n",
    "One function that you'll need to use to do this is `math.ceil()`.  We demonstrate usage of this function in the code cell below.  It takes as a number as input and rounds the number up to the nearest integer.  \n",
    "\n",
    "Run the next code cell to test this function for yourself.  Feel free to change the value of `test_value` and make sure `math.ceil()` returns the number you expect."
   ]
  },
  {
   "cell_type": "code",
   "execution_count": 10,
   "id": "ec9a76fc",
   "metadata": {
    "execution": {
     "iopub.execute_input": "2023-07-22T09:10:54.751270Z",
     "iopub.status.busy": "2023-07-22T09:10:54.750717Z",
     "iopub.status.idle": "2023-07-22T09:10:54.755530Z",
     "shell.execute_reply": "2023-07-22T09:10:54.754315Z"
    },
    "papermill": {
     "duration": 0.013954,
     "end_time": "2023-07-22T09:10:54.757981",
     "exception": false,
     "start_time": "2023-07-22T09:10:54.744027",
     "status": "completed"
    },
    "tags": []
   },
   "outputs": [
    {
     "name": "stdout",
     "output_type": "stream",
     "text": [
      "3\n"
     ]
    }
   ],
   "source": [
    "test_value = 2.17\n",
    "\n",
    "rounded_value = math.ceil(test_value)\n",
    "print(rounded_value)"
   ]
  },
  {
   "cell_type": "markdown",
   "id": "9e6db79c",
   "metadata": {
    "papermill": {
     "duration": 0.005466,
     "end_time": "2023-07-22T09:10:54.769716",
     "exception": false,
     "start_time": "2023-07-22T09:10:54.764250",
     "status": "completed"
    },
    "tags": []
   },
   "source": [
    "Use the next code cell to define the function `get_actual_cost()`.  You'll need to use the `math.ceil()` function to do this.\n",
    "\n",
    "When answering this question, note that it's completely valid to define a function that makes use of another function.  For instance, we can define a function `round_up_and_divide_by_three` that makes use of the `math.ceil` function:\n",
    "```\n",
    "def round_up_and_divide_by_three(num):\n",
    "    new_value = math.ceil(num)\n",
    "    final_value = new_value / 3\n",
    "    return final_value\n",
    "```"
   ]
  },
  {
   "cell_type": "code",
   "execution_count": 11,
   "id": "4093c5bf",
   "metadata": {
    "execution": {
     "iopub.execute_input": "2023-07-22T09:10:54.782573Z",
     "iopub.status.busy": "2023-07-22T09:10:54.782238Z",
     "iopub.status.idle": "2023-07-22T09:10:54.791321Z",
     "shell.execute_reply": "2023-07-22T09:10:54.790204Z"
    },
    "papermill": {
     "duration": 0.017732,
     "end_time": "2023-07-22T09:10:54.793102",
     "exception": false,
     "start_time": "2023-07-22T09:10:54.775370",
     "status": "completed"
    },
    "tags": []
   },
   "outputs": [
    {
     "data": {
      "application/javascript": [
       "parent.postMessage({\"jupyterEvent\": \"custom.exercise_interaction\", \"data\": {\"outcomeType\": 1, \"valueTowardsCompletion\": 0.2, \"interactionType\": 1, \"questionType\": 2, \"questionId\": \"5_NoMoreFractions\", \"learnToolsVersion\": \"0.3.4\", \"failureMessage\": \"\", \"exceptionClass\": \"\", \"trace\": \"\"}}, \"*\")"
      ],
      "text/plain": [
       "<IPython.core.display.Javascript object>"
      ]
     },
     "metadata": {},
     "output_type": "display_data"
    },
    {
     "data": {
      "text/markdown": [
       "<span style=\"color:#33cc33\">Correct</span>"
      ],
      "text/plain": [
       "Correct"
      ]
     },
     "metadata": {},
     "output_type": "display_data"
    }
   ],
   "source": [
    "def get_actual_cost(sqft_walls, sqft_ceiling, sqft_per_gallon, cost_per_gallon):\n",
    "    cost = math.ceil((sqft_walls + sqft_ceiling)/sqft_per_gallon)*cost_per_gallon\n",
    "    return cost\n",
    "\n",
    "# Check your answer\n",
    "q5.check()"
   ]
  },
  {
   "cell_type": "code",
   "execution_count": 12,
   "id": "38428bea",
   "metadata": {
    "execution": {
     "iopub.execute_input": "2023-07-22T09:10:54.808282Z",
     "iopub.status.busy": "2023-07-22T09:10:54.807527Z",
     "iopub.status.idle": "2023-07-22T09:10:54.811279Z",
     "shell.execute_reply": "2023-07-22T09:10:54.810614Z"
    },
    "papermill": {
     "duration": 0.013657,
     "end_time": "2023-07-22T09:10:54.812978",
     "exception": false,
     "start_time": "2023-07-22T09:10:54.799321",
     "status": "completed"
    },
    "tags": []
   },
   "outputs": [],
   "source": [
    "# Uncomment to see a hint\n",
    "#q5.hint()\n",
    "\n",
    "# Uncomment to view the solution\n",
    "#q5.solution()"
   ]
  },
  {
   "cell_type": "markdown",
   "id": "c70f6a41",
   "metadata": {
    "papermill": {
     "duration": 0.005956,
     "end_time": "2023-07-22T09:10:54.825257",
     "exception": false,
     "start_time": "2023-07-22T09:10:54.819301",
     "status": "completed"
    },
    "tags": []
   },
   "source": [
    "Once your function is verified as correct, run the next code cell to calculate the updated cost of your project."
   ]
  },
  {
   "cell_type": "code",
   "execution_count": 13,
   "id": "b4d72791",
   "metadata": {
    "execution": {
     "iopub.execute_input": "2023-07-22T09:10:54.839129Z",
     "iopub.status.busy": "2023-07-22T09:10:54.838583Z",
     "iopub.status.idle": "2023-07-22T09:10:54.843624Z",
     "shell.execute_reply": "2023-07-22T09:10:54.842777Z"
    },
    "papermill": {
     "duration": 0.013936,
     "end_time": "2023-07-22T09:10:54.845306",
     "exception": false,
     "start_time": "2023-07-22T09:10:54.831370",
     "status": "completed"
    },
    "tags": []
   },
   "outputs": [
    {
     "data": {
      "text/plain": [
       "30"
      ]
     },
     "execution_count": 13,
     "metadata": {},
     "output_type": "execute_result"
    }
   ],
   "source": [
    "get_actual_cost(432, 144, 400, 15) "
   ]
  },
  {
   "cell_type": "markdown",
   "id": "89001cb7",
   "metadata": {
    "papermill": {
     "duration": 0.005921,
     "end_time": "2023-07-22T09:10:54.857469",
     "exception": false,
     "start_time": "2023-07-22T09:10:54.851548",
     "status": "completed"
    },
    "tags": []
   },
   "source": [
    "Say you're working with a slightly larger room.  Run the next code cell to calculate the cost of the project."
   ]
  },
  {
   "cell_type": "code",
   "execution_count": 14,
   "id": "efd7366e",
   "metadata": {
    "execution": {
     "iopub.execute_input": "2023-07-22T09:10:54.871198Z",
     "iopub.status.busy": "2023-07-22T09:10:54.870834Z",
     "iopub.status.idle": "2023-07-22T09:10:54.876439Z",
     "shell.execute_reply": "2023-07-22T09:10:54.875565Z"
    },
    "papermill": {
     "duration": 0.014514,
     "end_time": "2023-07-22T09:10:54.878068",
     "exception": false,
     "start_time": "2023-07-22T09:10:54.863554",
     "status": "completed"
    },
    "tags": []
   },
   "outputs": [
    {
     "data": {
      "text/plain": [
       "45"
      ]
     },
     "execution_count": 14,
     "metadata": {},
     "output_type": "execute_result"
    }
   ],
   "source": [
    "get_actual_cost(594, 288, 400, 15) "
   ]
  },
  {
   "cell_type": "markdown",
   "id": "83b2cf05",
   "metadata": {
    "papermill": {
     "duration": 0.006109,
     "end_time": "2023-07-22T09:10:54.890552",
     "exception": false,
     "start_time": "2023-07-22T09:10:54.884443",
     "status": "completed"
    },
    "tags": []
   },
   "source": [
    "# Keep going\n",
    "\n",
    "Continue to learn about **[data types](https://www.kaggle.com/alexisbcook/data-types)**."
   ]
  },
  {
   "cell_type": "markdown",
   "id": "71348345",
   "metadata": {
    "papermill": {
     "duration": 0.005957,
     "end_time": "2023-07-22T09:10:54.902885",
     "exception": false,
     "start_time": "2023-07-22T09:10:54.896928",
     "status": "completed"
    },
    "tags": []
   },
   "source": [
    "---\n",
    "\n",
    "\n",
    "\n",
    "\n",
    "*Have questions or comments? Visit the [course discussion forum](https://www.kaggle.com/learn/intro-to-programming/discussion) to chat with other learners.*"
   ]
  }
 ],
 "metadata": {
  "kernelspec": {
   "display_name": "Python 3",
   "language": "python",
   "name": "python3"
  },
  "language_info": {
   "codemirror_mode": {
    "name": "ipython",
    "version": 3
   },
   "file_extension": ".py",
   "mimetype": "text/x-python",
   "name": "python",
   "nbconvert_exporter": "python",
   "pygments_lexer": "ipython3",
   "version": "3.10.12"
  },
  "papermill": {
   "default_parameters": {},
   "duration": 8.839809,
   "end_time": "2023-07-22T09:10:55.629854",
   "environment_variables": {},
   "exception": null,
   "input_path": "__notebook__.ipynb",
   "output_path": "__notebook__.ipynb",
   "parameters": {},
   "start_time": "2023-07-22T09:10:46.790045",
   "version": "2.4.0"
  }
 },
 "nbformat": 4,
 "nbformat_minor": 5
}
